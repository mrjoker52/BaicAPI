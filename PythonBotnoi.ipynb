{
  "nbformat": 4,
  "nbformat_minor": 0,
  "metadata": {
    "colab": {
      "name": "Untitled0.ipynb",
      "provenance": [],
      "toc_visible": true,
      "authorship_tag": "ABX9TyNaNumqExsgwi0jMFfREuKC",
      "include_colab_link": true
    },
    "kernelspec": {
      "name": "python3",
      "display_name": "Python 3"
    },
    "language_info": {
      "name": "python"
    }
  },
  "cells": [
    {
      "cell_type": "markdown",
      "metadata": {
        "id": "view-in-github",
        "colab_type": "text"
      },
      "source": [
        "<a href=\"https://colab.research.google.com/github/mrjoker52/BaicAPI/blob/main/PythonBotnoi.ipynb\" target=\"_parent\"><img src=\"https://colab.research.google.com/assets/colab-badge.svg\" alt=\"Open In Colab\"/></a>"
      ]
    },
    {
      "cell_type": "code",
      "execution_count": 1,
      "metadata": {
        "colab": {
          "base_uri": "https://localhost:8080/",
          "height": 35
        },
        "id": "dzNOwdAgiO1o",
        "outputId": "c40f32e5-3294-4127-cb3b-0eb768528c94"
      },
      "outputs": [
        {
          "output_type": "execute_result",
          "data": {
            "text/plain": [
              "'Hello world'"
            ],
            "application/vnd.google.colaboratory.intrinsic+json": {
              "type": "string"
            }
          },
          "metadata": {},
          "execution_count": 1
        }
      ],
      "source": [
        "'Hello world'"
      ]
    },
    {
      "cell_type": "code",
      "source": [
        "\"j's car\""
      ],
      "metadata": {
        "colab": {
          "base_uri": "https://localhost:8080/",
          "height": 35
        },
        "id": "WtaXXyu0mfe7",
        "outputId": "b9272b39-6832-489a-9b74-15377b776777"
      },
      "execution_count": 2,
      "outputs": [
        {
          "output_type": "execute_result",
          "data": {
            "text/plain": [
              "\"j's car\""
            ],
            "application/vnd.google.colaboratory.intrinsic+json": {
              "type": "string"
            }
          },
          "metadata": {},
          "execution_count": 2
        }
      ]
    },
    {
      "cell_type": "markdown",
      "source": [
        "# ส่วนใหม่"
      ],
      "metadata": {
        "id": "XxaTwpl1ibiS"
      }
    },
    {
      "cell_type": "code",
      "source": [
        "# ตัวแปร"
      ],
      "metadata": {
        "id": "tEv_kFIhmuV6"
      },
      "execution_count": 3,
      "outputs": []
    },
    {
      "cell_type": "code",
      "source": [
        "x=10\n",
        "y=20"
      ],
      "metadata": {
        "id": "hZ6XXXDTm0ar"
      },
      "execution_count": 5,
      "outputs": []
    },
    {
      "cell_type": "code",
      "source": [
        "if x<y:\n",
        "  print('Hellp world')"
      ],
      "metadata": {
        "colab": {
          "base_uri": "https://localhost:8080/"
        },
        "id": "f2lFrP1wq2fD",
        "outputId": "badb3235-ed62-4ebb-e582-9b9e7e797faf"
      },
      "execution_count": 8,
      "outputs": [
        {
          "output_type": "stream",
          "name": "stdout",
          "text": [
            "Hellp world\n"
          ]
        }
      ]
    },
    {
      "cell_type": "code",
      "source": [
        "x<y"
      ],
      "metadata": {
        "colab": {
          "base_uri": "https://localhost:8080/"
        },
        "id": "XbT0OiwvrMFF",
        "outputId": "6d194146-a0ee-4514-ba30-052bf1241dc6"
      },
      "execution_count": 9,
      "outputs": [
        {
          "output_type": "execute_result",
          "data": {
            "text/plain": [
              "True"
            ]
          },
          "metadata": {},
          "execution_count": 9
        }
      ]
    },
    {
      "cell_type": "code",
      "source": [
        "score = 40"
      ],
      "metadata": {
        "id": "6cKGwA2sr2I7"
      },
      "execution_count": 29,
      "outputs": []
    },
    {
      "cell_type": "code",
      "source": [
        "if score>=80:\n",
        "  print(\"you've got A\")\n",
        "  if score>90:\n",
        "    print(\" you are the best\")\n",
        "elif score>=70:\n",
        "  print(\"you've got B\")\n",
        "elif score>=60:\n",
        "  print(\"you've got C\")\n",
        "elif score>=50:\n",
        "  print(\"you've got D\")\n",
        "else:\n",
        "  print(\"you've got Failed\")"
      ],
      "metadata": {
        "colab": {
          "base_uri": "https://localhost:8080/"
        },
        "id": "wSNpdXrgsFH8",
        "outputId": "a03fa33b-8437-41d0-b6d9-38db6c0cacee"
      },
      "execution_count": 30,
      "outputs": [
        {
          "output_type": "stream",
          "name": "stdout",
          "text": [
            "you've got Failed\n"
          ]
        }
      ]
    },
    {
      "cell_type": "markdown",
      "source": [
        "# ส่วนใหม่"
      ],
      "metadata": {
        "id": "tQefpfmcnHJT"
      }
    },
    {
      "cell_type": "code",
      "source": [
        "if score>=80:\n",
        "  print(\"you've got A\")\n",
        "  if score>90:\n",
        "    print(\" you are the best\")\n",
        "elif score>=70:\n",
        "  print(\"you've got B\")\n",
        "elif score>=60:\n",
        "  print(\"you've got C\")\n",
        "elif score>=50:\n",
        "  print(\"you've got D\")\n",
        "else:\n",
        "  print(\"you've got Failed\")"
      ],
      "metadata": {
        "colab": {
          "base_uri": "https://localhost:8080/"
        },
        "id": "W5M8HFDDxS-r",
        "outputId": "97280a6f-475d-4600-82d2-b3cc34dfcbb1"
      },
      "execution_count": 31,
      "outputs": [
        {
          "output_type": "stream",
          "name": "stdout",
          "text": [
            "you've got Failed\n"
          ]
        }
      ]
    },
    {
      "cell_type": "code",
      "source": [
        "for i in range(10):\n",
        "  print(\"I love you\")"
      ],
      "metadata": {
        "colab": {
          "base_uri": "https://localhost:8080/"
        },
        "id": "7Q9X0yxSzDO0",
        "outputId": "28f80651-1e37-436d-ea6f-6ab060104140"
      },
      "execution_count": 32,
      "outputs": [
        {
          "output_type": "stream",
          "name": "stdout",
          "text": [
            "I love you\n",
            "I love you\n",
            "I love you\n",
            "I love you\n",
            "I love you\n",
            "I love you\n",
            "I love you\n",
            "I love you\n",
            "I love you\n",
            "I love you\n"
          ]
        }
      ]
    },
    {
      "cell_type": "markdown",
      "source": [
        ""
      ],
      "metadata": {
        "id": "8ib-CP4azwfV"
      }
    },
    {
      "cell_type": "code",
      "source": [
        "sum = 0\n",
        "for i in range(1,11):\n",
        "  sum += i\n",
        "  print(sum)\n"
      ],
      "metadata": {
        "colab": {
          "base_uri": "https://localhost:8080/"
        },
        "id": "NCfYsrMhz0Bb",
        "outputId": "78be37f6-b40e-4b3f-8e4b-13c5a3d21475"
      },
      "execution_count": 40,
      "outputs": [
        {
          "output_type": "stream",
          "name": "stdout",
          "text": [
            "1\n",
            "3\n",
            "6\n",
            "10\n",
            "15\n",
            "21\n",
            "28\n",
            "36\n",
            "45\n",
            "55\n"
          ]
        }
      ]
    },
    {
      "cell_type": "code",
      "source": [
        "menulist = ['กะเพราไก่ไข่ดาว','']"
      ],
      "metadata": {
        "id": "krTSbtEN47zh"
      },
      "execution_count": null,
      "outputs": []
    },
    {
      "cell_type": "code",
      "source": [
        "url = 'https://docs.google.com/spreadsheets/d/e/2PACX-1vQLEPVDEALAw70drdhzkdeztHX_KH5UKZM46XQPMWOpOBGUOXgjvXkUzs91p3eG80sjlwE9WtQ2pp1x/pub?output=csv'"
      ],
      "metadata": {
        "id": "1OzmJk3_8zds"
      },
      "execution_count": 45,
      "outputs": []
    },
    {
      "cell_type": "code",
      "source": [
        "import pandas"
      ],
      "metadata": {
        "id": "rzpxPGm79Dr6"
      },
      "execution_count": 43,
      "outputs": []
    },
    {
      "cell_type": "code",
      "source": [
        "pandas.read_csv(url)"
      ],
      "metadata": {
        "colab": {
          "base_uri": "https://localhost:8080/",
          "height": 424
        },
        "id": "OlQqIljr9KUa",
        "outputId": "bda715e0-1526-4b10-b041-ccb27d4e8c5f"
      },
      "execution_count": 46,
      "outputs": [
        {
          "output_type": "execute_result",
          "data": {
            "text/plain": [
              "               Timestamp      กินอะไรดี\n",
              "0    04/06/2022 11:11:13     ข้าวมันไก่\n",
              "1    04/06/2022 11:11:13  กะเพราหมูกรอบ\n",
              "2    04/06/2022 11:11:14          ส้มตำ\n",
              "3    04/06/2022 11:11:20     ข้าวผัดหมู\n",
              "4    04/06/2022 11:11:20          ส้มตำ\n",
              "..                   ...            ...\n",
              "120  04/06/2022 11:16:54          ราเมน\n",
              "121  04/06/2022 11:17:02  กุ้งอบภูเขาไฟ\n",
              "122  04/06/2022 11:17:02          สุกี้\n",
              "123  04/06/2022 11:17:35        แกงอ๋อม\n",
              "124  04/06/2022 11:19:47          กาเเฟ\n",
              "\n",
              "[125 rows x 2 columns]"
            ],
            "text/html": [
              "\n",
              "  <div id=\"df-1cc9a366-b8fe-4fcb-8db1-916e1f643a52\">\n",
              "    <div class=\"colab-df-container\">\n",
              "      <div>\n",
              "<style scoped>\n",
              "    .dataframe tbody tr th:only-of-type {\n",
              "        vertical-align: middle;\n",
              "    }\n",
              "\n",
              "    .dataframe tbody tr th {\n",
              "        vertical-align: top;\n",
              "    }\n",
              "\n",
              "    .dataframe thead th {\n",
              "        text-align: right;\n",
              "    }\n",
              "</style>\n",
              "<table border=\"1\" class=\"dataframe\">\n",
              "  <thead>\n",
              "    <tr style=\"text-align: right;\">\n",
              "      <th></th>\n",
              "      <th>Timestamp</th>\n",
              "      <th>กินอะไรดี</th>\n",
              "    </tr>\n",
              "  </thead>\n",
              "  <tbody>\n",
              "    <tr>\n",
              "      <th>0</th>\n",
              "      <td>04/06/2022 11:11:13</td>\n",
              "      <td>ข้าวมันไก่</td>\n",
              "    </tr>\n",
              "    <tr>\n",
              "      <th>1</th>\n",
              "      <td>04/06/2022 11:11:13</td>\n",
              "      <td>กะเพราหมูกรอบ</td>\n",
              "    </tr>\n",
              "    <tr>\n",
              "      <th>2</th>\n",
              "      <td>04/06/2022 11:11:14</td>\n",
              "      <td>ส้มตำ</td>\n",
              "    </tr>\n",
              "    <tr>\n",
              "      <th>3</th>\n",
              "      <td>04/06/2022 11:11:20</td>\n",
              "      <td>ข้าวผัดหมู</td>\n",
              "    </tr>\n",
              "    <tr>\n",
              "      <th>4</th>\n",
              "      <td>04/06/2022 11:11:20</td>\n",
              "      <td>ส้มตำ</td>\n",
              "    </tr>\n",
              "    <tr>\n",
              "      <th>...</th>\n",
              "      <td>...</td>\n",
              "      <td>...</td>\n",
              "    </tr>\n",
              "    <tr>\n",
              "      <th>120</th>\n",
              "      <td>04/06/2022 11:16:54</td>\n",
              "      <td>ราเมน</td>\n",
              "    </tr>\n",
              "    <tr>\n",
              "      <th>121</th>\n",
              "      <td>04/06/2022 11:17:02</td>\n",
              "      <td>กุ้งอบภูเขาไฟ</td>\n",
              "    </tr>\n",
              "    <tr>\n",
              "      <th>122</th>\n",
              "      <td>04/06/2022 11:17:02</td>\n",
              "      <td>สุกี้</td>\n",
              "    </tr>\n",
              "    <tr>\n",
              "      <th>123</th>\n",
              "      <td>04/06/2022 11:17:35</td>\n",
              "      <td>แกงอ๋อม</td>\n",
              "    </tr>\n",
              "    <tr>\n",
              "      <th>124</th>\n",
              "      <td>04/06/2022 11:19:47</td>\n",
              "      <td>กาเเฟ</td>\n",
              "    </tr>\n",
              "  </tbody>\n",
              "</table>\n",
              "<p>125 rows × 2 columns</p>\n",
              "</div>\n",
              "      <button class=\"colab-df-convert\" onclick=\"convertToInteractive('df-1cc9a366-b8fe-4fcb-8db1-916e1f643a52')\"\n",
              "              title=\"Convert this dataframe to an interactive table.\"\n",
              "              style=\"display:none;\">\n",
              "        \n",
              "  <svg xmlns=\"http://www.w3.org/2000/svg\" height=\"24px\"viewBox=\"0 0 24 24\"\n",
              "       width=\"24px\">\n",
              "    <path d=\"M0 0h24v24H0V0z\" fill=\"none\"/>\n",
              "    <path d=\"M18.56 5.44l.94 2.06.94-2.06 2.06-.94-2.06-.94-.94-2.06-.94 2.06-2.06.94zm-11 1L8.5 8.5l.94-2.06 2.06-.94-2.06-.94L8.5 2.5l-.94 2.06-2.06.94zm10 10l.94 2.06.94-2.06 2.06-.94-2.06-.94-.94-2.06-.94 2.06-2.06.94z\"/><path d=\"M17.41 7.96l-1.37-1.37c-.4-.4-.92-.59-1.43-.59-.52 0-1.04.2-1.43.59L10.3 9.45l-7.72 7.72c-.78.78-.78 2.05 0 2.83L4 21.41c.39.39.9.59 1.41.59.51 0 1.02-.2 1.41-.59l7.78-7.78 2.81-2.81c.8-.78.8-2.07 0-2.86zM5.41 20L4 18.59l7.72-7.72 1.47 1.35L5.41 20z\"/>\n",
              "  </svg>\n",
              "      </button>\n",
              "      \n",
              "  <style>\n",
              "    .colab-df-container {\n",
              "      display:flex;\n",
              "      flex-wrap:wrap;\n",
              "      gap: 12px;\n",
              "    }\n",
              "\n",
              "    .colab-df-convert {\n",
              "      background-color: #E8F0FE;\n",
              "      border: none;\n",
              "      border-radius: 50%;\n",
              "      cursor: pointer;\n",
              "      display: none;\n",
              "      fill: #1967D2;\n",
              "      height: 32px;\n",
              "      padding: 0 0 0 0;\n",
              "      width: 32px;\n",
              "    }\n",
              "\n",
              "    .colab-df-convert:hover {\n",
              "      background-color: #E2EBFA;\n",
              "      box-shadow: 0px 1px 2px rgba(60, 64, 67, 0.3), 0px 1px 3px 1px rgba(60, 64, 67, 0.15);\n",
              "      fill: #174EA6;\n",
              "    }\n",
              "\n",
              "    [theme=dark] .colab-df-convert {\n",
              "      background-color: #3B4455;\n",
              "      fill: #D2E3FC;\n",
              "    }\n",
              "\n",
              "    [theme=dark] .colab-df-convert:hover {\n",
              "      background-color: #434B5C;\n",
              "      box-shadow: 0px 1px 3px 1px rgba(0, 0, 0, 0.15);\n",
              "      filter: drop-shadow(0px 1px 2px rgba(0, 0, 0, 0.3));\n",
              "      fill: #FFFFFF;\n",
              "    }\n",
              "  </style>\n",
              "\n",
              "      <script>\n",
              "        const buttonEl =\n",
              "          document.querySelector('#df-1cc9a366-b8fe-4fcb-8db1-916e1f643a52 button.colab-df-convert');\n",
              "        buttonEl.style.display =\n",
              "          google.colab.kernel.accessAllowed ? 'block' : 'none';\n",
              "\n",
              "        async function convertToInteractive(key) {\n",
              "          const element = document.querySelector('#df-1cc9a366-b8fe-4fcb-8db1-916e1f643a52');\n",
              "          const dataTable =\n",
              "            await google.colab.kernel.invokeFunction('convertToInteractive',\n",
              "                                                     [key], {});\n",
              "          if (!dataTable) return;\n",
              "\n",
              "          const docLinkHtml = 'Like what you see? Visit the ' +\n",
              "            '<a target=\"_blank\" href=https://colab.research.google.com/notebooks/data_table.ipynb>data table notebook</a>'\n",
              "            + ' to learn more about interactive tables.';\n",
              "          element.innerHTML = '';\n",
              "          dataTable['output_type'] = 'display_data';\n",
              "          await google.colab.output.renderOutput(dataTable, element);\n",
              "          const docLink = document.createElement('div');\n",
              "          docLink.innerHTML = docLinkHtml;\n",
              "          element.appendChild(docLink);\n",
              "        }\n",
              "      </script>\n",
              "    </div>\n",
              "  </div>\n",
              "  "
            ]
          },
          "metadata": {},
          "execution_count": 46
        }
      ]
    },
    {
      "cell_type": "code",
      "source": [
        "url = 'https://docs.google.com/spreadsheets/d/e/2PACX-1vQLEPVDEALAw70drdhzkdeztHX_KH5UKZM46XQPMWOpOBGUOXgjvXkUzs91p3eG80sjlwE9WtQ2pp1x/pub?output=csv'\n",
        "import pandas\n",
        "dat = pandas.read_csv(url)\n",
        "dat['กินอะไรดี'].value_counts()\n"
      ],
      "metadata": {
        "colab": {
          "base_uri": "https://localhost:8080/"
        },
        "id": "DB65UazO9OnE",
        "outputId": "ea761cc1-6c22-4610-8b8d-a1c67b42fc5e"
      },
      "execution_count": 49,
      "outputs": [
        {
          "output_type": "execute_result",
          "data": {
            "text/plain": [
              "ข้าวมันไก่      4\n",
              "ส้มตำ           4\n",
              "คะน้าหมูกรอบ    3\n",
              "ซอยจุ๊          2\n",
              "ก๋วยเตี๋ยว      2\n",
              "               ..\n",
              "พิซซ่า          1\n",
              "หมูกะทะ         1\n",
              "KFC             1\n",
              "จาจังเมียน      1\n",
              "ไก่ย่าง         1\n",
              "Name: กินอะไรดี, Length: 106, dtype: int64"
            ]
          },
          "metadata": {},
          "execution_count": 49
        }
      ]
    },
    {
      "cell_type": "code",
      "source": [
        "dat.sample(1)['กินอะไรดี'].values[0]"
      ],
      "metadata": {
        "colab": {
          "base_uri": "https://localhost:8080/",
          "height": 35
        },
        "id": "lM1RrfTOBTIU",
        "outputId": "e36628a3-3ecc-4a66-e031-464d924d638c"
      },
      "execution_count": 59,
      "outputs": [
        {
          "output_type": "execute_result",
          "data": {
            "text/plain": [
              "'ติ่มซำ'"
            ],
            "application/vnd.google.colaboratory.intrinsic+json": {
              "type": "string"
            }
          },
          "metadata": {},
          "execution_count": 59
        }
      ]
    },
    {
      "cell_type": "code",
      "source": [
        "import time\n",
        "for i in range(10):\n",
        "  print(dat.sample(1)['กินอะไรดี'].values[0])\n",
        "  time.sleep(5)"
      ],
      "metadata": {
        "colab": {
          "base_uri": "https://localhost:8080/"
        },
        "id": "KCYONtFRB6ym",
        "outputId": "7ca727db-37c1-457e-a44d-a206a3156710"
      },
      "execution_count": 64,
      "outputs": [
        {
          "output_type": "stream",
          "name": "stdout",
          "text": [
            "ข้าวซอยเนื้อ\n",
            "ห่อหมกเจ\n",
            "ต้มยำอกหัก\n",
            "มาม่าเย็นตาโฟ\n",
            "สุกี้\n",
            "บะหมี่เป็ดย่างหมูกรอบ\n",
            "บะหมี่ลูกชิ้นปลา\n",
            "ส้มตำ\n",
            "หมูกระเทียม\n",
            "ข้าวหมูกรอบ\n"
          ]
        }
      ]
    }
  ]
}